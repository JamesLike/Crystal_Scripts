{
 "cells": [
  {
   "cell_type": "code",
   "execution_count": 1,
   "metadata": {
    "collapsed": true
   },
   "outputs": [],
   "source": [
    "#file = '/home/james/Documents/test_images/tmpcrystfel_xgandalf.stream'\n",
    "file = '/home/james/Documents/test_images/crystfel_xgandalf.stream'\n",
    "# streamfile = open(file, 'r')\n",
    "# raw = streamfile.read()\n",
    "# Determine how many chunks:\n",
    "sum = 0\n",
    "with open(file) as fp:\n",
    "\tfor line in fp:\n",
    "\t\tif line == '----- Begin chunk -----\\n':\n",
    "\t\t\tsum = sum + 1\n",
    "\n",
    "dat = [None] * (sum)\n",
    "idx = 0\n",
    "with open(file) as fp:\n",
    "\tfor line in fp:\n",
    "\t\tif line == '----- Begin chunk -----\\n':\n",
    "\t\t\tidx = idx + 1\n",
    "\t\t\tdat[idx - 1]=line\n",
    "\t\tif idx > 0:\n",
    "\t\t\tdat[idx-1] = dat[idx-1] + line\n",
    "\n",
    "indexed = []\n",
    "for chunk in dat:\n",
    "\tif 'indexed_by = none' not in chunk:\n",
    "\t\tindexed.append(chunk)"
   ]
  },
  {
   "cell_type": "code",
   "execution_count": 15,
   "outputs": [],
   "source": [
    "# tmppeaks=[]\n",
    "# write=0\n",
    "# for line in indexed:\n",
    "#     if line=='  fs/px   ss/px (1/d)/nm^-1   Intensity  Panel\\n':\n",
    "#         write=1\n",
    "#         print('yes')\n",
    "#     if line=='End of peak list\\n':\n",
    "#         write=0\n",
    "#     if write==1:\n",
    "#         tmppeaks.append(line)"
   ],
   "metadata": {
    "collapsed": false,
    "pycharm": {
     "name": "#%%\n"
    }
   }
  },
  {
   "cell_type": "code",
   "execution_count": 92,
   "outputs": [],
   "source": [
    "start = indexed[0].find(\"  fs/px   ss/px (1/d)/nm^-1   Intensity  Panel\\n\") + len(\"  fs/px   ss/px (1/d)/nm^-1   Intensity  Panel\\n\")\n",
    "end = indexed[0].find(\"End of peak list\\n\")\n",
    "\n",
    "\n",
    "#print('Peak: \\n', between(indexed[0], peakstart,peakend))\n",
    "#print('Crystal: \\n', between(indexed[0], cryststart,crystend))"
   ],
   "metadata": {
    "collapsed": false,
    "pycharm": {
     "name": "#%%\n"
    }
   }
  },
  {
   "cell_type": "code",
   "execution_count": 2,
   "outputs": [],
   "source": [
    "import numpy as np\n",
    "\n",
    "\n",
    "def between(str,a,b):\n",
    "    i = str.find(a) + len(a)\n",
    "    j = str.find(b)\n",
    "    return str[i:j]\n",
    "\n",
    "def reflectsort(line):\n",
    "    h=float(line[0:4])\n",
    "    k=float(line[5:9])\n",
    "    l=float(line[10:14])\n",
    "    I=float(line[14:26])\n",
    "    sigI=float(line[27:36])\n",
    "    peak=float(line[37:47])\n",
    "    bck=float(line[48:58])\n",
    "    x=float(line[59:65])\n",
    "    y=float(line[66:72])\n",
    "    return [h,k,l,I,sigI,peak,bck,x,y]\n",
    "\n",
    "def peaksort(line):\n",
    "    x = float(line[0:7])\n",
    "    y = float(line[8:15])\n",
    "    d = float(line[16:26])\n",
    "    I = float(line[26:38])\n",
    "    return [x, y, d, I]\n",
    "\n",
    "\n",
    "def indexedsort(indexed):\n",
    "    peakstart = \"  fs/px   ss/px (1/d)/nm^-1   Intensity  Panel\\n\"\n",
    "    peakend= \"End of peak list\\n\"\n",
    "    cryststart = \"   h    k    l          I   sigma(I)       peak background  fs/px  ss/px panel\"\n",
    "    crystend =\"End of reflections\"\n",
    "    reflect = (between(indexed, cryststart,crystend).split('\\n'))\n",
    "    peaks= (between(indexed, peakstart,peakend).split('\\n'))\n",
    "    tmp=[]\n",
    "    for line in peaks:\n",
    "        if line!='':\n",
    "            tmp.append(peaksort(line))\n",
    "    peaks = np.asarray(tmp)\n",
    "\n",
    "    tmp=[]\n",
    "    for line in reflect:\n",
    "        if line!='':\n",
    "            tmp.append(reflectsort(line))\n",
    "    reflect =np.asarray(tmp)\n",
    "\n",
    "    return [peaks,reflect]"
   ],
   "metadata": {
    "collapsed": false,
    "pycharm": {
     "name": "#%%\n"
    }
   }
  },
  {
   "cell_type": "code",
   "execution_count": 26,
   "outputs": [
    {
     "name": "stderr",
     "output_type": "stream",
     "text": [
      "/home/james/anaconda3/lib/python3.7/site-packages/ipykernel_launcher.py:7: DeprecationWarning: elementwise comparison failed; this will raise an error in the future.\n",
      "  import sys\n",
      "/home/james/anaconda3/lib/python3.7/site-packages/ipykernel_launcher.py:9: DeprecationWarning: elementwise comparison failed; this will raise an error in the future.\n",
      "  if __name__ == '__main__':\n"
     ]
    }
   ],
   "source": [
    "#peaks, reflect = indexedsort(indexed[0])\n",
    "allpeaks = []\n",
    "allrefle = []\n",
    "\n",
    "for val in indexed:\n",
    "    p , f = indexedsort(val)\n",
    "    if allpeaks==[]: allpeaks = p\n",
    "    else: allpeaks = np.append(allpeaks,p)\n",
    "    if allrefle==[]: allrefle = f\n",
    "    else: allrefle = np.append(allrefle, f)\n",
    "\n",
    "allpeaks=np.reshape(allpeaks,[int(len(allpeaks)/4),4])\n",
    "allrefle=np.reshape(allrefle,[int(len(allrefle)/9),9])\n",
    "#D=pd.DataFrame(allpeaks)"
   ],
   "metadata": {
    "collapsed": false,
    "pycharm": {
     "name": "#%%\n"
    }
   }
  },
  {
   "cell_type": "code",
   "execution_count": 32,
   "outputs": [],
   "source": [
    "file1 = '/home/james/Documents/test_images/peaks.dat'\n",
    "file2 = '/home/james/Documents/test_images/reflect.dat'\n",
    "np.save(file1,allpeaks)\n",
    "np.save(file2,allrefle)"
   ],
   "metadata": {
    "collapsed": false,
    "pycharm": {
     "name": "#%%\n"
    }
   }
  },
  {
   "cell_type": "code",
   "execution_count": 31,
   "outputs": [
    {
     "data": {
      "text/plain": "<Figure size 432x288 with 1 Axes>",
      "image/png": "[encoded data removed]"
     },
     "metadata": {
      "needs_background": "light"
     },
     "output_type": "display_data"
    }
   ],
   "source": [
    "import matplotlib.pyplot as plt\n",
    "\n",
    "plt.scatter(allpeaks[:,2],allpeaks[:,3])\n",
    "plt.show()\n",
    "#plt.scatter(peaks[:,0],peaks[:,1])"
   ],
   "metadata": {
    "collapsed": false,
    "pycharm": {
     "name": "#%%\n"
    }
   }
  },
  {
   "cell_type": "code",
   "execution_count": 29,
   "outputs": [
    {
     "data": {
      "text/plain": "<matplotlib.collections.PathCollection at 0x7f5d87e2cbe0>"
     },
     "execution_count": 29,
     "metadata": {},
     "output_type": "execute_result"
    },
    {
     "data": {
      "text/plain": "<Figure size 432x288 with 1 Axes>",
      "image/png": "[encoded data removed]"
     },
     "metadata": {
      "needs_background": "light"
     },
     "output_type": "display_data"
    }
   ],
   "source": [
    "plt.scatter(allpeaks[1,2],allpeaks[1,3])\n"
   ],
   "metadata": {
    "collapsed": false,
    "pycharm": {
     "name": "#%%\n"
    }
   }
  },
  {
   "cell_type": "code",
   "execution_count": 34,
   "outputs": [
    {
     "data": {
      "text/plain": "            h     k     l       I   sigI   peak    bck       x       y\n0       -22.0   3.0  31.0   -9.69   5.89    5.0   1.47  1817.6    41.7\n1       -21.0 -15.0   3.0   -4.11   9.33    6.0   2.56   965.9    15.0\n2       -21.0  -4.0  15.0  -15.06   8.32    7.0   2.28  1351.2    94.7\n3       -21.0  -2.0  18.0   14.03   8.31    6.0   1.86  1438.9   104.0\n4       -21.0   4.0  30.0   -6.06   5.87    4.0   1.28  1788.7   113.3\n5       -21.0   6.0  36.0    4.42   5.55    3.0   0.92  1973.1   102.7\n6       -20.0 -21.0  -3.0    9.42   7.95    6.0   1.92   754.0    12.9\n7       -20.0 -11.0   5.0    9.42   9.08    9.0   2.92  1054.7   104.4\n8       -20.0 -10.0   6.0   -5.42   8.86    8.0   3.08  1087.3   112.0\n9       -20.0  -9.0   7.0  -13.28  11.10    9.0   3.39  1119.9   119.7\n10      -20.0  -4.0  13.0  -10.36   7.85    7.0   2.81  1301.5   151.8\n11      -20.0   6.0  32.0    8.72   7.26    4.0   1.39  1848.8   178.1\n12      -19.0   3.0  22.0    6.83   7.37    5.0   1.83  1563.5   239.2\n13      -19.0   4.0  24.0    6.42   8.64    7.0   1.92  1619.4   241.9\n14      -18.0 -20.0  -5.0    6.06   7.55    8.0   2.72   724.9   130.5\n15      -18.0  -6.0   7.0   12.39  11.88   11.0   4.06  1144.5   245.3\n16      -18.0   2.0  18.0  -28.08  11.96    9.0   3.42  1456.5   290.3\n17      -18.0   8.0  31.0   -1.75   7.23    6.0   1.75  1818.2   305.0\n18      -18.0  10.0  38.0   14.58   5.74    4.0   1.08  2027.1   297.9\n19      -17.0 -23.0  -8.0   -6.11  10.09    9.0   2.56   616.1   152.1\n20      -17.0  -3.0   9.0   -8.50  11.89   10.0   4.50  1211.9   313.9\n21      -16.0 -29.0 -12.0    3.58   8.94    8.0   2.08   428.7   139.0\n22      -16.0 -18.0  -6.0   22.25  11.58    9.0   3.75   729.5   248.8\n23      -16.0  10.0  31.0   -2.36   6.99    6.0   1.81  1814.9   420.9\n24      -15.0 -42.0 -17.0    9.58   6.26    4.0   1.08    27.9    23.4\n25      -15.0 -15.0  -5.0  -21.14  11.42   10.0   4.69   787.6   321.6\n26      -15.0   0.0  10.0  -26.92  14.86   14.0   5.58  1250.9   426.0\n27      -14.0 -27.0 -13.0    6.50   8.37    7.0   2.50   442.3   260.6\n28      -14.0 -23.0 -11.0   -4.72   7.53    9.0   3.61   550.1   299.0\n29      -14.0 -15.0  -6.0   -4.97  13.02   12.0   4.86   764.9   367.4\n...       ...   ...   ...     ...    ...    ...    ...     ...     ...\n1577608   1.0  15.0 -10.0  901.47  40.25  547.0  24.64   583.2  1011.1\n1577609   1.0  15.0  -9.0   41.69  24.49   40.0  22.53   595.3   994.5\n1577610   1.0  15.0  -8.0   84.28  27.85   57.0  22.61   607.4   978.0\n1577611   1.0  15.0  -7.0  149.39  29.54  119.0  23.06   619.5   961.5\n1577612   1.0  16.0 -18.0   51.53  30.70   46.0  28.36   465.4  1134.0\n1577613   1.0  16.0 -17.0    2.92  21.92   48.0  30.42   478.0  1116.8\n1577614   1.0  16.0 -16.0 -289.19  87.01   41.0   9.97   490.6  1099.7\n1577615   1.0  16.0 -15.0    0.00   1.00   -1.0  -1.00   503.1  1082.7\n1577616   1.0  16.0 -14.0  -14.14  83.66   46.0  12.69   515.6  1065.7\n1577617   1.0  16.0 -13.0  860.17  45.58  341.0  28.17   528.0  1048.8\n1577618   1.0  16.0 -12.0   97.17  38.64   77.0  29.17   540.4  1032.0\n1577619   1.0  16.0 -11.0  123.17  30.06   70.0  26.17   552.7  1015.2\n1577620   1.0  16.0 -10.0  874.14  40.92  401.0  25.31   564.9   998.5\n1577621   1.0  16.0  -9.0   56.00  28.20   47.0  25.00   577.2   981.9\n1577622   1.0  16.0  -8.0   27.25  29.12   40.0  23.75   589.3   965.3\n1577623   1.0  17.0 -17.0  261.25  83.15   44.0  19.75   459.3  1104.2\n1577624   1.0  17.0 -16.0    0.00   1.00   -1.0  -1.00   471.9  1087.1\n1577625   1.0  17.0 -15.0    0.00   1.00   -1.0  -1.00   484.5  1070.1\n1577626   1.0  17.0 -14.0   23.69  28.22   43.0  29.53   497.0  1053.1\n1577627   1.0  17.0 -13.0  375.47  31.53  182.0  29.64   509.5  1036.2\n1577628   1.0  17.0 -12.0  393.17  38.03  207.0  31.17   521.9  1019.3\n1577629   1.0  17.0 -11.0   -3.33  27.17   43.0  28.67   534.3  1002.5\n1577630   1.0  17.0 -10.0   46.33  27.30   42.0  26.33   546.6   985.8\n1577631   1.0  17.0  -9.0   71.14  34.15   49.0  25.31   558.9   969.2\n1577632   1.0  18.0 -15.0   33.31  27.84   42.0  28.47   465.8  1057.4\n1577633   1.0  18.0 -14.0  -12.36  26.21   41.0  30.81   478.4  1040.4\n1577634   1.0  18.0 -13.0  -27.81  24.64   41.0  31.03   490.9  1023.4\n1577635   1.0  18.0 -12.0   -7.72  32.86   42.0  30.61   503.4  1006.6\n1577636   1.0  18.0 -11.0  -78.50  34.88   44.0  32.50   515.8   989.8\n1577637   1.0  18.0 -10.0    5.83  26.84   42.0  28.83   528.2   973.1\n\n[1577638 rows x 9 columns]",
      "text/html": "<div>\n<style scoped>\n    .dataframe tbody tr th:only-of-type {\n        vertical-align: middle;\n    }\n\n    .dataframe tbody tr th {\n        vertical-align: top;\n    }\n\n    .dataframe thead th {\n        text-align: right;\n    }\n</style>\n<table border=\"1\" class=\"dataframe\">\n  <thead>\n    <tr style=\"text-align: right;\">\n      <th></th>\n      <th>h</th>\n      <th>k</th>\n      <th>l</th>\n      <th>I</th>\n      <th>sigI</th>\n      <th>peak</th>\n      <th>bck</th>\n      <th>x</th>\n      <th>y</th>\n    </tr>\n  </thead>\n  <tbody>\n    <tr>\n      <th>0</th>\n      <td>-22.0</td>\n      <td>3.0</td>\n      <td>31.0</td>\n      <td>-9.69</td>\n      <td>5.89</td>\n      <td>5.0</td>\n      <td>1.47</td>\n      <td>1817.6</td>\n      <td>41.7</td>\n    </tr>\n    <tr>\n      <th>1</th>\n      <td>-21.0</td>\n      <td>-15.0</td>\n      <td>3.0</td>\n      <td>-4.11</td>\n      <td>9.33</td>\n      <td>6.0</td>\n      <td>2.56</td>\n      <td>965.9</td>\n      <td>15.0</td>\n    </tr>\n    <tr>\n      <th>2</th>\n      <td>-21.0</td>\n      <td>-4.0</td>\n      <td>15.0</td>\n      <td>-15.06</td>\n      <td>8.32</td>\n      <td>7.0</td>\n      <td>2.28</td>\n      <td>1351.2</td>\n      <td>94.7</td>\n    </tr>\n    <tr>\n      <th>3</th>\n      <td>-21.0</td>\n      <td>-2.0</td>\n      <td>18.0</td>\n      <td>14.03</td>\n      <td>8.31</td>\n      <td>6.0</td>\n      <td>1.86</td>\n      <td>1438.9</td>\n      <td>104.0</td>\n    </tr>\n    <tr>\n      <th>4</th>\n      <td>-21.0</td>\n      <td>4.0</td>\n      <td>30.0</td>\n      <td>-6.06</td>\n      <td>5.87</td>\n      <td>4.0</td>\n      <td>1.28</td>\n      <td>1788.7</td>\n      <td>113.3</td>\n    </tr>\n    <tr>\n      <th>5</th>\n      <td>-21.0</td>\n      <td>6.0</td>\n      <td>36.0</td>\n      <td>4.42</td>\n      <td>5.55</td>\n      <td>3.0</td>\n      <td>0.92</td>\n      <td>1973.1</td>\n      <td>102.7</td>\n    </tr>\n    <tr>\n      <th>6</th>\n      <td>-20.0</td>\n      <td>-21.0</td>\n      <td>-3.0</td>\n      <td>9.42</td>\n      <td>7.95</td>\n      <td>6.0</td>\n      <td>1.92</td>\n      <td>754.0</td>\n      <td>12.9</td>\n    </tr>\n    <tr>\n      <th>7</th>\n      <td>-20.0</td>\n      <td>-11.0</td>\n      <td>5.0</td>\n      <td>9.42</td>\n      <td>9.08</td>\n      <td>9.0</td>\n      <td>2.92</td>\n      <td>1054.7</td>\n      <td>104.4</td>\n    </tr>\n    <tr>\n      <th>8</th>\n      <td>-20.0</td>\n      <td>-10.0</td>\n      <td>6.0</td>\n      <td>-5.42</td>\n      <td>8.86</td>\n      <td>8.0</td>\n      <td>3.08</td>\n      <td>1087.3</td>\n      <td>112.0</td>\n    </tr>\n    <tr>\n      <th>9</th>\n      <td>-20.0</td>\n      <td>-9.0</td>\n      <td>7.0</td>\n      <td>-13.28</td>\n      <td>11.10</td>\n      <td>9.0</td>\n      <td>3.39</td>\n      <td>1119.9</td>\n      <td>119.7</td>\n    </tr>\n    <tr>\n      <th>10</th>\n      <td>-20.0</td>\n      <td>-4.0</td>\n      <td>13.0</td>\n      <td>-10.36</td>\n      <td>7.85</td>\n      <td>7.0</td>\n      <td>2.81</td>\n      <td>1301.5</td>\n      <td>151.8</td>\n    </tr>\n    <tr>\n      <th>11</th>\n      <td>-20.0</td>\n      <td>6.0</td>\n      <td>32.0</td>\n      <td>8.72</td>\n      <td>7.26</td>\n      <td>4.0</td>\n      <td>1.39</td>\n      <td>1848.8</td>\n      <td>178.1</td>\n    </tr>\n    <tr>\n      <th>12</th>\n      <td>-19.0</td>\n      <td>3.0</td>\n      <td>22.0</td>\n      <td>6.83</td>\n      <td>7.37</td>\n      <td>5.0</td>\n      <td>1.83</td>\n      <td>1563.5</td>\n      <td>239.2</td>\n    </tr>\n    <tr>\n      <th>13</th>\n      <td>-19.0</td>\n      <td>4.0</td>\n      <td>24.0</td>\n      <td>6.42</td>\n      <td>8.64</td>\n      <td>7.0</td>\n      <td>1.92</td>\n      <td>1619.4</td>\n      <td>241.9</td>\n    </tr>\n    <tr>\n      <th>14</th>\n      <td>-18.0</td>\n      <td>-20.0</td>\n      <td>-5.0</td>\n      <td>6.06</td>\n      <td>7.55</td>\n      <td>8.0</td>\n      <td>2.72</td>\n      <td>724.9</td>\n      <td>130.5</td>\n    </tr>\n    <tr>\n      <th>15</th>\n      <td>-18.0</td>\n      <td>-6.0</td>\n      <td>7.0</td>\n      <td>12.39</td>\n      <td>11.88</td>\n      <td>11.0</td>\n      <td>4.06</td>\n      <td>1144.5</td>\n      <td>245.3</td>\n    </tr>\n    <tr>\n      <th>16</th>\n      <td>-18.0</td>\n      <td>2.0</td>\n      <td>18.0</td>\n      <td>-28.08</td>\n      <td>11.96</td>\n      <td>9.0</td>\n      <td>3.42</td>\n      <td>1456.5</td>\n      <td>290.3</td>\n    </tr>\n    <tr>\n      <th>17</th>\n      <td>-18.0</td>\n      <td>8.0</td>\n      <td>31.0</td>\n      <td>-1.75</td>\n      <td>7.23</td>\n      <td>6.0</td>\n      <td>1.75</td>\n      <td>1818.2</td>\n      <td>305.0</td>\n    </tr>\n    <tr>\n      <th>18</th>\n      <td>-18.0</td>\n      <td>10.0</td>\n      <td>38.0</td>\n      <td>14.58</td>\n      <td>5.74</td>\n      <td>4.0</td>\n      <td>1.08</td>\n      <td>2027.1</td>\n      <td>297.9</td>\n    </tr>\n    <tr>\n      <th>19</th>\n      <td>-17.0</td>\n      <td>-23.0</td>\n      <td>-8.0</td>\n      <td>-6.11</td>\n      <td>10.09</td>\n      <td>9.0</td>\n      <td>2.56</td>\n      <td>616.1</td>\n      <td>152.1</td>\n    </tr>\n    <tr>\n      <th>20</th>\n      <td>-17.0</td>\n      <td>-3.0</td>\n      <td>9.0</td>\n      <td>-8.50</td>\n      <td>11.89</td>\n      <td>10.0</td>\n      <td>4.50</td>\n      <td>1211.9</td>\n      <td>313.9</td>\n    </tr>\n    <tr>\n      <th>21</th>\n      <td>-16.0</td>\n      <td>-29.0</td>\n      <td>-12.0</td>\n      <td>3.58</td>\n      <td>8.94</td>\n      <td>8.0</td>\n      <td>2.08</td>\n      <td>428.7</td>\n      <td>139.0</td>\n    </tr>\n    <tr>\n      <th>22</th>\n      <td>-16.0</td>\n      <td>-18.0</td>\n      <td>-6.0</td>\n      <td>22.25</td>\n      <td>11.58</td>\n      <td>9.0</td>\n      <td>3.75</td>\n      <td>729.5</td>\n      <td>248.8</td>\n    </tr>\n    <tr>\n      <th>23</th>\n      <td>-16.0</td>\n      <td>10.0</td>\n      <td>31.0</td>\n      <td>-2.36</td>\n      <td>6.99</td>\n      <td>6.0</td>\n      <td>1.81</td>\n      <td>1814.9</td>\n      <td>420.9</td>\n    </tr>\n    <tr>\n      <th>24</th>\n      <td>-15.0</td>\n      <td>-42.0</td>\n      <td>-17.0</td>\n      <td>9.58</td>\n      <td>6.26</td>\n      <td>4.0</td>\n      <td>1.08</td>\n      <td>27.9</td>\n      <td>23.4</td>\n    </tr>\n    <tr>\n      <th>25</th>\n      <td>-15.0</td>\n      <td>-15.0</td>\n      <td>-5.0</td>\n      <td>-21.14</td>\n      <td>11.42</td>\n      <td>10.0</td>\n      <td>4.69</td>\n      <td>787.6</td>\n      <td>321.6</td>\n    </tr>\n    <tr>\n      <th>26</th>\n      <td>-15.0</td>\n      <td>0.0</td>\n      <td>10.0</td>\n      <td>-26.92</td>\n      <td>14.86</td>\n      <td>14.0</td>\n      <td>5.58</td>\n      <td>1250.9</td>\n      <td>426.0</td>\n    </tr>\n    <tr>\n      <th>27</th>\n      <td>-14.0</td>\n      <td>-27.0</td>\n      <td>-13.0</td>\n      <td>6.50</td>\n      <td>8.37</td>\n      <td>7.0</td>\n      <td>2.50</td>\n      <td>442.3</td>\n      <td>260.6</td>\n    </tr>\n    <tr>\n      <th>28</th>\n      <td>-14.0</td>\n      <td>-23.0</td>\n      <td>-11.0</td>\n      <td>-4.72</td>\n      <td>7.53</td>\n      <td>9.0</td>\n      <td>3.61</td>\n      <td>550.1</td>\n      <td>299.0</td>\n    </tr>\n    <tr>\n      <th>29</th>\n      <td>-14.0</td>\n      <td>-15.0</td>\n      <td>-6.0</td>\n      <td>-4.97</td>\n      <td>13.02</td>\n      <td>12.0</td>\n      <td>4.86</td>\n      <td>764.9</td>\n      <td>367.4</td>\n    </tr>\n    <tr>\n      <th>...</th>\n      <td>...</td>\n      <td>...</td>\n      <td>...</td>\n      <td>...</td>\n      <td>...</td>\n      <td>...</td>\n      <td>...</td>\n      <td>...</td>\n      <td>...</td>\n    </tr>\n    <tr>\n      <th>1577608</th>\n      <td>1.0</td>\n      <td>15.0</td>\n      <td>-10.0</td>\n      <td>901.47</td>\n      <td>40.25</td>\n      <td>547.0</td>\n      <td>24.64</td>\n      <td>583.2</td>\n      <td>1011.1</td>\n    </tr>\n    <tr>\n      <th>1577609</th>\n      <td>1.0</td>\n      <td>15.0</td>\n      <td>-9.0</td>\n      <td>41.69</td>\n      <td>24.49</td>\n      <td>40.0</td>\n      <td>22.53</td>\n      <td>595.3</td>\n      <td>994.5</td>\n    </tr>\n    <tr>\n      <th>1577610</th>\n      <td>1.0</td>\n      <td>15.0</td>\n      <td>-8.0</td>\n      <td>84.28</td>\n      <td>27.85</td>\n      <td>57.0</td>\n      <td>22.61</td>\n      <td>607.4</td>\n      <td>978.0</td>\n    </tr>\n    <tr>\n      <th>1577611</th>\n      <td>1.0</td>\n      <td>15.0</td>\n      <td>-7.0</td>\n      <td>149.39</td>\n      <td>29.54</td>\n      <td>119.0</td>\n      <td>23.06</td>\n      <td>619.5</td>\n      <td>961.5</td>\n    </tr>\n    <tr>\n      <th>1577612</th>\n      <td>1.0</td>\n      <td>16.0</td>\n      <td>-18.0</td>\n      <td>51.53</td>\n      <td>30.70</td>\n      <td>46.0</td>\n      <td>28.36</td>\n      <td>465.4</td>\n      <td>1134.0</td>\n    </tr>\n    <tr>\n      <th>1577613</th>\n      <td>1.0</td>\n      <td>16.0</td>\n      <td>-17.0</td>\n      <td>2.92</td>\n      <td>21.92</td>\n      <td>48.0</td>\n      <td>30.42</td>\n      <td>478.0</td>\n      <td>1116.8</td>\n    </tr>\n    <tr>\n      <th>1577614</th>\n      <td>1.0</td>\n      <td>16.0</td>\n      <td>-16.0</td>\n      <td>-289.19</td>\n      <td>87.01</td>\n      <td>41.0</td>\n      <td>9.97</td>\n      <td>490.6</td>\n      <td>1099.7</td>\n    </tr>\n    <tr>\n      <th>1577615</th>\n      <td>1.0</td>\n      <td>16.0</td>\n      <td>-15.0</td>\n      <td>0.00</td>\n      <td>1.00</td>\n      <td>-1.0</td>\n      <td>-1.00</td>\n      <td>503.1</td>\n      <td>1082.7</td>\n    </tr>\n    <tr>\n      <th>1577616</th>\n      <td>1.0</td>\n      <td>16.0</td>\n      <td>-14.0</td>\n      <td>-14.14</td>\n      <td>83.66</td>\n      <td>46.0</td>\n      <td>12.69</td>\n      <td>515.6</td>\n      <td>1065.7</td>\n    </tr>\n    <tr>\n      <th>1577617</th>\n      <td>1.0</td>\n      <td>16.0</td>\n      <td>-13.0</td>\n      <td>860.17</td>\n      <td>45.58</td>\n      <td>341.0</td>\n      <td>28.17</td>\n      <td>528.0</td>\n      <td>1048.8</td>\n    </tr>\n    <tr>\n      <th>1577618</th>\n      <td>1.0</td>\n      <td>16.0</td>\n      <td>-12.0</td>\n      <td>97.17</td>\n      <td>38.64</td>\n      <td>77.0</td>\n      <td>29.17</td>\n      <td>540.4</td>\n      <td>1032.0</td>\n    </tr>\n    <tr>\n      <th>1577619</th>\n      <td>1.0</td>\n      <td>16.0</td>\n      <td>-11.0</td>\n      <td>123.17</td>\n      <td>30.06</td>\n      <td>70.0</td>\n      <td>26.17</td>\n      <td>552.7</td>\n      <td>1015.2</td>\n    </tr>\n    <tr>\n      <th>1577620</th>\n      <td>1.0</td>\n      <td>16.0</td>\n      <td>-10.0</td>\n      <td>874.14</td>\n      <td>40.92</td>\n      <td>401.0</td>\n      <td>25.31</td>\n      <td>564.9</td>\n      <td>998.5</td>\n    </tr>\n    <tr>\n      <th>1577621</th>\n      <td>1.0</td>\n      <td>16.0</td>\n      <td>-9.0</td>\n      <td>56.00</td>\n      <td>28.20</td>\n      <td>47.0</td>\n      <td>25.00</td>\n      <td>577.2</td>\n      <td>981.9</td>\n    </tr>\n    <tr>\n      <th>1577622</th>\n      <td>1.0</td>\n      <td>16.0</td>\n      <td>-8.0</td>\n      <td>27.25</td>\n      <td>29.12</td>\n      <td>40.0</td>\n      <td>23.75</td>\n      <td>589.3</td>\n      <td>965.3</td>\n    </tr>\n    <tr>\n      <th>1577623</th>\n      <td>1.0</td>\n      <td>17.0</td>\n      <td>-17.0</td>\n      <td>261.25</td>\n      <td>83.15</td>\n      <td>44.0</td>\n      <td>19.75</td>\n      <td>459.3</td>\n      <td>1104.2</td>\n    </tr>\n    <tr>\n      <th>1577624</th>\n      <td>1.0</td>\n      <td>17.0</td>\n      <td>-16.0</td>\n      <td>0.00</td>\n      <td>1.00</td>\n      <td>-1.0</td>\n      <td>-1.00</td>\n      <td>471.9</td>\n      <td>1087.1</td>\n    </tr>\n    <tr>\n      <th>1577625</th>\n      <td>1.0</td>\n      <td>17.0</td>\n      <td>-15.0</td>\n      <td>0.00</td>\n      <td>1.00</td>\n      <td>-1.0</td>\n      <td>-1.00</td>\n      <td>484.5</td>\n      <td>1070.1</td>\n    </tr>\n    <tr>\n      <th>1577626</th>\n      <td>1.0</td>\n      <td>17.0</td>\n      <td>-14.0</td>\n      <td>23.69</td>\n      <td>28.22</td>\n      <td>43.0</td>\n      <td>29.53</td>\n      <td>497.0</td>\n      <td>1053.1</td>\n    </tr>\n    <tr>\n      <th>1577627</th>\n      <td>1.0</td>\n      <td>17.0</td>\n      <td>-13.0</td>\n      <td>375.47</td>\n      <td>31.53</td>\n      <td>182.0</td>\n      <td>29.64</td>\n      <td>509.5</td>\n      <td>1036.2</td>\n    </tr>\n    <tr>\n      <th>1577628</th>\n      <td>1.0</td>\n      <td>17.0</td>\n      <td>-12.0</td>\n      <td>393.17</td>\n      <td>38.03</td>\n      <td>207.0</td>\n      <td>31.17</td>\n      <td>521.9</td>\n      <td>1019.3</td>\n    </tr>\n    <tr>\n      <th>1577629</th>\n      <td>1.0</td>\n      <td>17.0</td>\n      <td>-11.0</td>\n      <td>-3.33</td>\n      <td>27.17</td>\n      <td>43.0</td>\n      <td>28.67</td>\n      <td>534.3</td>\n      <td>1002.5</td>\n    </tr>\n    <tr>\n      <th>1577630</th>\n      <td>1.0</td>\n      <td>17.0</td>\n      <td>-10.0</td>\n      <td>46.33</td>\n      <td>27.30</td>\n      <td>42.0</td>\n      <td>26.33</td>\n      <td>546.6</td>\n      <td>985.8</td>\n    </tr>\n    <tr>\n      <th>1577631</th>\n      <td>1.0</td>\n      <td>17.0</td>\n      <td>-9.0</td>\n      <td>71.14</td>\n      <td>34.15</td>\n      <td>49.0</td>\n      <td>25.31</td>\n      <td>558.9</td>\n      <td>969.2</td>\n    </tr>\n    <tr>\n      <th>1577632</th>\n      <td>1.0</td>\n      <td>18.0</td>\n      <td>-15.0</td>\n      <td>33.31</td>\n      <td>27.84</td>\n      <td>42.0</td>\n      <td>28.47</td>\n      <td>465.8</td>\n      <td>1057.4</td>\n    </tr>\n    <tr>\n      <th>1577633</th>\n      <td>1.0</td>\n      <td>18.0</td>\n      <td>-14.0</td>\n      <td>-12.36</td>\n      <td>26.21</td>\n      <td>41.0</td>\n      <td>30.81</td>\n      <td>478.4</td>\n      <td>1040.4</td>\n    </tr>\n    <tr>\n      <th>1577634</th>\n      <td>1.0</td>\n      <td>18.0</td>\n      <td>-13.0</td>\n      <td>-27.81</td>\n      <td>24.64</td>\n      <td>41.0</td>\n      <td>31.03</td>\n      <td>490.9</td>\n      <td>1023.4</td>\n    </tr>\n    <tr>\n      <th>1577635</th>\n      <td>1.0</td>\n      <td>18.0</td>\n      <td>-12.0</td>\n      <td>-7.72</td>\n      <td>32.86</td>\n      <td>42.0</td>\n      <td>30.61</td>\n      <td>503.4</td>\n      <td>1006.6</td>\n    </tr>\n    <tr>\n      <th>1577636</th>\n      <td>1.0</td>\n      <td>18.0</td>\n      <td>-11.0</td>\n      <td>-78.50</td>\n      <td>34.88</td>\n      <td>44.0</td>\n      <td>32.50</td>\n      <td>515.8</td>\n      <td>989.8</td>\n    </tr>\n    <tr>\n      <th>1577637</th>\n      <td>1.0</td>\n      <td>18.0</td>\n      <td>-10.0</td>\n      <td>5.83</td>\n      <td>26.84</td>\n      <td>42.0</td>\n      <td>28.83</td>\n      <td>528.2</td>\n      <td>973.1</td>\n    </tr>\n  </tbody>\n</table>\n<p>1577638 rows × 9 columns</p>\n</div>"
     },
     "execution_count": 34,
     "metadata": {},
     "output_type": "execute_result"
    }
   ],
   "source": [
    "#peaksDF=pd.DataFrame(peaks,columns=['x','y','res','I'])\n",
    "reflectDF=pd.DataFrame(allrefle,columns=['h','k','l','I','sigI','peak','bck','x','y'])\n",
    "reflectDF\n",
    "#peaksDF"
   ],
   "metadata": {
    "collapsed": false,
    "pycharm": {
     "name": "#%%\n"
    }
   }
  },
  {
   "cell_type": "code",
   "execution_count": 67,
   "outputs": [
    {
     "name": "stdout",
     "output_type": "stream",
     "text": [
      "4\n",
      "3\n",
      "4\n",
      "[[1 2 3 4]\n",
      " [1 2 3 3]\n",
      " [6 7 8 4]]\n",
      "[[1 2 3 4]\n",
      " [6 7 8 4]]\n"
     ]
    },
    {
     "name": "stderr",
     "output_type": "stream",
     "text": [
      "/home/james/anaconda3/lib/python3.7/site-packages/ipykernel_launcher.py:6: DeprecationWarning: elementwise comparison failed; this will raise an error in the future.\n",
      "  \n"
     ]
    }
   ],
   "source": [
    "A=np.asarray([[1,2,3,4],[1,2,3,3],[6,7,8,4]])\n",
    "B=[]\n",
    "for val in A:\n",
    "    print(val[3])\n",
    "    if val[3]>3:\n",
    "        if B==[]: B=val\n",
    "        else: B=np.append(B,val)\n",
    "#\n",
    "B = np.reshape(B, [int(len(B)/4),4])\n",
    " #np.reshape()\n",
    "print(A)\n",
    "print(B)\n",
    "\n",
    "#A[:,3]"
   ],
   "metadata": {
    "collapsed": false,
    "pycharm": {
     "name": "#%%\n"
    }
   }
  },
  {
   "cell_type": "code",
   "execution_count": null,
   "outputs": [],
   "source": [
    "sig=2\n",
    "cutdat=[]\n",
    "for line in allrefle:\n",
    "\tif line[3] / line[4] > sig:\n",
    "\t\tif len(cutdat)==0: cutdat=line\n",
    "\t\telse: cutdat = np.append(cutdat, line)"
   ],
   "metadata": {
    "collapsed": false,
    "pycharm": {
     "name": "#%%\n",
     "is_executing": true
    }
   }
  },
  {
   "cell_type": "code",
   "execution_count": null,
   "outputs": [],
   "source": [
    "print\n",
    "\n",
    "\n",
    "\n",
    "\n",
    "\n",
    "\n",
    "\n",
    "\n",
    "\n",
    "\n",
    "\n",
    "\n",
    "\n",
    "\n",
    "\n",
    "\n"
   ],
   "metadata": {
    "collapsed": false,
    "pycharm": {
     "name": "#%%\n"
    }
   }
  }
 ],
 "metadata": {
  "kernelspec": {
   "display_name": "Python 3",
   "language": "python",
   "name": "python3"
  },
  "language_info": {
   "codemirror_mode": {
    "name": "ipython",
    "version": 2
   },
   "file_extension": ".py",
   "mimetype": "text/x-python",
   "name": "python",
   "nbconvert_exporter": "python",
   "pygments_lexer": "ipython2",
   "version": "2.7.6"
  }
 },
 "nbformat": 4,
 "nbformat_minor": 0
}